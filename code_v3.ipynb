{
 "cells": [
  {
   "cell_type": "code",
   "execution_count": 1,
   "metadata": {},
   "outputs": [],
   "source": [
    "import pyaudio as p\n",
    "import wave as w\n",
    "import numpy as np\n",
    "from __future__ import print_function\n",
    "import librosa\n",
    "import librosa.display\n",
    "import IPython.display\n",
    "import time\n",
    "import matplotlib.pyplot as plt\n",
    "import pandas as pd\n",
    "import os\n",
    "import glob\n",
    "from keras.models import Sequential\n",
    "from keras.layers import Dense, Dropout\n",
    "%matplotlib inline"
   ]
  },
  {
   "cell_type": "code",
   "execution_count": 2,
   "metadata": {},
   "outputs": [],
   "source": [
    "FORMAT=p.paInt16\n",
    "CHANNELS=2\n",
    "RATE=44100 #sampling frequency rate\n",
    "CHUNK=1024\n",
    "RECORD_SECONDS=2\n",
    "WAVE_OUTPUT_FILENAME=\"authentic.wav\""
   ]
  },
  {
   "cell_type": "code",
   "execution_count": 3,
   "metadata": {
    "scrolled": false
   },
   "outputs": [
    {
     "name": "stdout",
     "output_type": "stream",
     "text": [
      "recording..1\n",
      "finished recording\n"
     ]
    },
    {
     "ename": "AttributeError",
     "evalue": "module 'librosa.display' has no attribute 'waveplot'",
     "output_type": "error",
     "traceback": [
      "\u001b[1;31m---------------------------------------------------------------------------\u001b[0m",
      "\u001b[1;31mAttributeError\u001b[0m                            Traceback (most recent call last)",
      "Cell \u001b[1;32mIn[3], line 32\u001b[0m\n\u001b[0;32m     30\u001b[0m \u001b[38;5;66;03m#audio signal\u001b[39;00m\n\u001b[0;32m     31\u001b[0m plt\u001b[38;5;241m.\u001b[39mfigure(figsize\u001b[38;5;241m=\u001b[39m(\u001b[38;5;241m12\u001b[39m,\u001b[38;5;241m4\u001b[39m))\n\u001b[1;32m---> 32\u001b[0m \u001b[43mlibrosa\u001b[49m\u001b[38;5;241;43m.\u001b[39;49m\u001b[43mdisplay\u001b[49m\u001b[38;5;241;43m.\u001b[39;49m\u001b[43mwaveplot\u001b[49m(X, sr\u001b[38;5;241m=\u001b[39msr)\n\u001b[0;32m     34\u001b[0m \u001b[38;5;66;03m#generate mfcc\u001b[39;00m\n\u001b[0;32m     35\u001b[0m mfcc\u001b[38;5;241m=\u001b[39mlibrosa\u001b[38;5;241m.\u001b[39mfeature\u001b[38;5;241m.\u001b[39mmfcc(y\u001b[38;5;241m=\u001b[39mX,sr\u001b[38;5;241m=\u001b[39msr,n_mfcc\u001b[38;5;241m=\u001b[39m\u001b[38;5;241m128\u001b[39m)\n",
      "\u001b[1;31mAttributeError\u001b[0m: module 'librosa.display' has no attribute 'waveplot'"
     ]
    },
    {
     "data": {
      "text/plain": [
       "<Figure size 1200x400 with 0 Axes>"
      ]
     },
     "metadata": {},
     "output_type": "display_data"
    }
   ],
   "source": [
    "#start recording\n",
    "audio=p.PyAudio()\n",
    "stream=audio.open(format=FORMAT,channels=CHANNELS,rate=RATE,input=True,output=True,frames_per_buffer=CHUNK)\n",
    "#for 1st input\n",
    "print(\"recording..1\")\n",
    "frames=[]\n",
    "for j in range(0,int(RATE/CHUNK * RECORD_SECONDS)):\n",
    "    data=stream.read(CHUNK)\n",
    "    frames.append(data)\n",
    "print(\"finished recording\")\n",
    "\n",
    "#stop recording \n",
    "stream.stop_stream()\n",
    "stream.close()\n",
    "audio.terminate()\n",
    "\n",
    "#save file\n",
    "waveFile = w.open(WAVE_OUTPUT_FILENAME, 'wb')\n",
    "waveFile.setnchannels(CHANNELS)\n",
    "waveFile.setsampwidth(audio.get_sample_size(FORMAT))\n",
    "waveFile.setframerate(RATE)\n",
    "waveFile.writeframes(b''.join(frames))\n",
    "waveFile.close()\n",
    "\n",
    "\n",
    "#load audio file\n",
    "audio_path=WAVE_OUTPUT_FILENAME\n",
    "X,sr=librosa.load(audio_path,res_type='kaiser_fast')\n",
    "\n",
    "#audio signal\n",
    "plt.figure(figsize=(12,4))\n",
    "librosa.display.waveplot(X, sr=sr)\n",
    "\n",
    "#generate mfcc\n",
    "mfcc=librosa.feature.mfcc(y=X,sr=sr,n_mfcc=128)\n",
    "df=mfcc\n",
    "\n",
    "#sleep\n",
    "time.sleep(1.2)\n",
    "\n",
    "for i in range(1):\n",
    "    audio=p.PyAudio()\n",
    "    stream=audio.open(format=FORMAT,channels=CHANNELS,rate=RATE,input=True,output=True,frames_per_buffer=CHUNK)\n",
    "    print(\"recording..\",(i+2))\n",
    "    frames=[]\n",
    "    for j in range(0,int(RATE/CHUNK * RECORD_SECONDS)):\n",
    "        data=stream.read(CHUNK)\n",
    "        frames.append(data)\n",
    "    print(\"finished recording\")\n",
    "\n",
    "    #stop recording \n",
    "    stream.stop_stream()\n",
    "    stream.close()\n",
    "    audio.terminate()\n",
    "    \n",
    "    #save file\n",
    "    waveFile = w.open(WAVE_OUTPUT_FILENAME, 'wb')\n",
    "    waveFile.setnchannels(CHANNELS)\n",
    "    waveFile.setsampwidth(audio.get_sample_size(FORMAT))\n",
    "    waveFile.setframerate(RATE)\n",
    "    waveFile.writeframes(b''.join(frames))\n",
    "    waveFile.close()\n",
    "    \n",
    "    \n",
    "    #load audio file\n",
    "    audio_path=WAVE_OUTPUT_FILENAME\n",
    "    X,sr=librosa.load(audio_path,res_type='kaiser_fast')\n",
    "    #audio signal\n",
    "    plt.figure(figsize=(12,4))\n",
    "    librosa.display.waveplot(X, sr=sr)\n",
    "    \n",
    "    #generate mfcc\n",
    "    mfcc=librosa.feature.mfcc(y=X,sr=sr,n_mfcc=128)\n",
    "    df=np.concatenate((df,mfcc),axis=0)\n",
    "    time.sleep(1.2)\n",
    "    "
   ]
  },
  {
   "cell_type": "code",
   "execution_count": null,
   "metadata": {},
   "outputs": [],
   "source": [
    "df.shape"
   ]
  },
  {
   "cell_type": "code",
   "execution_count": null,
   "metadata": {},
   "outputs": [],
   "source": [
    "#display in notebook\n",
    "IPython.display.Audio(data=X,rate=sr)"
   ]
  },
  {
   "cell_type": "code",
   "execution_count": null,
   "metadata": {},
   "outputs": [],
   "source": [
    "label=[]\n",
    "for i in range(0,256):\n",
    "    label.append(1)\n",
    "label= np.array(label)"
   ]
  },
  {
   "cell_type": "code",
   "execution_count": null,
   "metadata": {},
   "outputs": [],
   "source": [
    "label.shape"
   ]
  },
  {
   "cell_type": "markdown",
   "metadata": {},
   "source": [
    "# Add another person"
   ]
  },
  {
   "cell_type": "code",
   "execution_count": null,
   "metadata": {},
   "outputs": [],
   "source": [
    "FORMAT=p.paInt16\n",
    "CHANNELS=2\n",
    "RATE=44100 #sampling frequency rate\n",
    "CHUNK=1024\n",
    "RECORD_SECONDS=2\n",
    "WAVE_OUTPUT_FILENAME=\"another.wav\""
   ]
  },
  {
   "cell_type": "code",
   "execution_count": null,
   "metadata": {},
   "outputs": [],
   "source": [
    "#start recording\n",
    "audio=p.PyAudio()\n",
    "stream=audio.open(format=FORMAT,channels=CHANNELS,rate=RATE,input=True,frames_per_buffer=CHUNK)\n",
    "print(\"recording..\")\n",
    "frames=[]\n",
    "for i in range(0,int(RATE/CHUNK * RECORD_SECONDS)):\n",
    "    data=stream.read(CHUNK)\n",
    "    frames.append(data)\n",
    "print(\"finished recording\")\n",
    "\n",
    "#stop recording \n",
    "stream.stop_stream()\n",
    "stream.close()\n",
    "audio.terminate()"
   ]
  },
  {
   "cell_type": "code",
   "execution_count": null,
   "metadata": {},
   "outputs": [],
   "source": [
    "waveFile = w.open(WAVE_OUTPUT_FILENAME, 'wb')\n",
    "waveFile.setnchannels(CHANNELS)\n",
    "waveFile.setsampwidth(audio.get_sample_size(FORMAT))\n",
    "waveFile.setframerate(RATE)\n",
    "waveFile.writeframes(b''.join(frames))\n",
    "waveFile.close()"
   ]
  },
  {
   "cell_type": "code",
   "execution_count": null,
   "metadata": {},
   "outputs": [],
   "source": [
    "audio_path= WAVE_OUTPUT_FILENAME\n",
    "X_1,sr_1=librosa.load(audio_path,res_type='kaiser_fast')\n",
    "#display in notebook\n",
    "IPython.display.Audio(data=X_1,rate=sr_1)"
   ]
  },
  {
   "cell_type": "code",
   "execution_count": 4,
   "metadata": {},
   "outputs": [
    {
     "ename": "AttributeError",
     "evalue": "module 'librosa.display' has no attribute 'waveplot'",
     "output_type": "error",
     "traceback": [
      "\u001b[1;31m---------------------------------------------------------------------------\u001b[0m",
      "\u001b[1;31mAttributeError\u001b[0m                            Traceback (most recent call last)",
      "Cell \u001b[1;32mIn[4], line 2\u001b[0m\n\u001b[0;32m      1\u001b[0m plt\u001b[38;5;241m.\u001b[39mfigure(figsize\u001b[38;5;241m=\u001b[39m(\u001b[38;5;241m12\u001b[39m,\u001b[38;5;241m4\u001b[39m))\n\u001b[1;32m----> 2\u001b[0m \u001b[43mlibrosa\u001b[49m\u001b[38;5;241;43m.\u001b[39;49m\u001b[43mdisplay\u001b[49m\u001b[38;5;241;43m.\u001b[39;49m\u001b[43mwaveplot\u001b[49m(X_1, sr\u001b[38;5;241m=\u001b[39msr_1)\n",
      "\u001b[1;31mAttributeError\u001b[0m: module 'librosa.display' has no attribute 'waveplot'"
     ]
    },
    {
     "data": {
      "text/plain": [
       "<Figure size 1200x400 with 0 Axes>"
      ]
     },
     "metadata": {},
     "output_type": "display_data"
    }
   ],
   "source": [
    "plt.figure(figsize=(12,4))\n",
    "librosa.display.waveplot(X_1, sr=sr_1)"
   ]
  },
  {
   "cell_type": "code",
   "execution_count": 5,
   "metadata": {},
   "outputs": [
    {
     "ename": "NameError",
     "evalue": "name 'X_1' is not defined",
     "output_type": "error",
     "traceback": [
      "\u001b[1;31m---------------------------------------------------------------------------\u001b[0m",
      "\u001b[1;31mNameError\u001b[0m                                 Traceback (most recent call last)",
      "Cell \u001b[1;32mIn[5], line 1\u001b[0m\n\u001b[1;32m----> 1\u001b[0m X_another\u001b[38;5;241m=\u001b[39mlibrosa\u001b[38;5;241m.\u001b[39mfeature\u001b[38;5;241m.\u001b[39mmfcc(y\u001b[38;5;241m=\u001b[39m\u001b[43mX_1\u001b[49m,sr\u001b[38;5;241m=\u001b[39msr_1,n_mfcc\u001b[38;5;241m=\u001b[39m\u001b[38;5;241m128\u001b[39m)\n\u001b[0;32m      2\u001b[0m X_another\u001b[38;5;241m.\u001b[39mshape\n",
      "\u001b[1;31mNameError\u001b[0m: name 'X_1' is not defined"
     ]
    }
   ],
   "source": [
    "X_another=librosa.feature.mfcc(y=X_1,sr=sr_1,n_mfcc=128)\n",
    "X_another.shape"
   ]
  },
  {
   "cell_type": "code",
   "execution_count": 6,
   "metadata": {},
   "outputs": [
    {
     "ename": "NameError",
     "evalue": "name 'df' is not defined",
     "output_type": "error",
     "traceback": [
      "\u001b[1;31m---------------------------------------------------------------------------\u001b[0m",
      "\u001b[1;31mNameError\u001b[0m                                 Traceback (most recent call last)",
      "Cell \u001b[1;32mIn[6], line 1\u001b[0m\n\u001b[1;32m----> 1\u001b[0m \u001b[43mdf\u001b[49m\u001b[38;5;241m.\u001b[39mshape\n",
      "\u001b[1;31mNameError\u001b[0m: name 'df' is not defined"
     ]
    }
   ],
   "source": [
    "df.shape"
   ]
  },
  {
   "cell_type": "code",
   "execution_count": 7,
   "metadata": {},
   "outputs": [
    {
     "ename": "NameError",
     "evalue": "name 'df' is not defined",
     "output_type": "error",
     "traceback": [
      "\u001b[1;31m---------------------------------------------------------------------------\u001b[0m",
      "\u001b[1;31mNameError\u001b[0m                                 Traceback (most recent call last)",
      "Cell \u001b[1;32mIn[7], line 1\u001b[0m\n\u001b[1;32m----> 1\u001b[0m df\u001b[38;5;241m=\u001b[39mnp\u001b[38;5;241m.\u001b[39mconcatenate((\u001b[43mdf\u001b[49m,X_another),axis\u001b[38;5;241m=\u001b[39m\u001b[38;5;241m0\u001b[39m)\n",
      "\u001b[1;31mNameError\u001b[0m: name 'df' is not defined"
     ]
    }
   ],
   "source": [
    "df=np.concatenate((df,X_another),axis=0)"
   ]
  },
  {
   "cell_type": "code",
   "execution_count": 8,
   "metadata": {},
   "outputs": [],
   "source": [
    "y_another=[]\n",
    "for i in range(0,128):\n",
    "    y_another.append(0)\n",
    "y_another=np.array(y_another)"
   ]
  },
  {
   "cell_type": "code",
   "execution_count": 9,
   "metadata": {},
   "outputs": [
    {
     "data": {
      "text/plain": [
       "array([0, 0, 0, 0, 0, 0, 0, 0, 0, 0, 0, 0, 0, 0, 0, 0, 0, 0, 0, 0, 0, 0,\n",
       "       0, 0, 0, 0, 0, 0, 0, 0, 0, 0, 0, 0, 0, 0, 0, 0, 0, 0, 0, 0, 0, 0,\n",
       "       0, 0, 0, 0, 0, 0, 0, 0, 0, 0, 0, 0, 0, 0, 0, 0, 0, 0, 0, 0, 0, 0,\n",
       "       0, 0, 0, 0, 0, 0, 0, 0, 0, 0, 0, 0, 0, 0, 0, 0, 0, 0, 0, 0, 0, 0,\n",
       "       0, 0, 0, 0, 0, 0, 0, 0, 0, 0, 0, 0, 0, 0, 0, 0, 0, 0, 0, 0, 0, 0,\n",
       "       0, 0, 0, 0, 0, 0, 0, 0, 0, 0, 0, 0, 0, 0, 0, 0, 0, 0])"
      ]
     },
     "execution_count": 9,
     "metadata": {},
     "output_type": "execute_result"
    }
   ],
   "source": [
    "y_another"
   ]
  },
  {
   "cell_type": "code",
   "execution_count": 10,
   "metadata": {},
   "outputs": [
    {
     "ename": "NameError",
     "evalue": "name 'label' is not defined",
     "output_type": "error",
     "traceback": [
      "\u001b[1;31m---------------------------------------------------------------------------\u001b[0m",
      "\u001b[1;31mNameError\u001b[0m                                 Traceback (most recent call last)",
      "Cell \u001b[1;32mIn[10], line 1\u001b[0m\n\u001b[1;32m----> 1\u001b[0m label\u001b[38;5;241m=\u001b[39mnp\u001b[38;5;241m.\u001b[39mconcatenate((\u001b[43mlabel\u001b[49m,y_another),axis\u001b[38;5;241m=\u001b[39m\u001b[38;5;241m0\u001b[39m)\n",
      "\u001b[1;31mNameError\u001b[0m: name 'label' is not defined"
     ]
    }
   ],
   "source": [
    "label=np.concatenate((label,y_another),axis=0)"
   ]
  },
  {
   "cell_type": "code",
   "execution_count": 11,
   "metadata": {},
   "outputs": [
    {
     "ename": "NameError",
     "evalue": "name 'label' is not defined",
     "output_type": "error",
     "traceback": [
      "\u001b[1;31m---------------------------------------------------------------------------\u001b[0m",
      "\u001b[1;31mNameError\u001b[0m                                 Traceback (most recent call last)",
      "Cell \u001b[1;32mIn[11], line 1\u001b[0m\n\u001b[1;32m----> 1\u001b[0m \u001b[43mlabel\u001b[49m\n",
      "\u001b[1;31mNameError\u001b[0m: name 'label' is not defined"
     ]
    }
   ],
   "source": [
    "label"
   ]
  },
  {
   "cell_type": "markdown",
   "metadata": {},
   "source": [
    "# Deep learning model"
   ]
  },
  {
   "cell_type": "code",
   "execution_count": 12,
   "metadata": {},
   "outputs": [],
   "source": [
    "def create_model():\n",
    "    #build model\n",
    "    model=Sequential()\n",
    "    model.add(Dense(256,input_dim=87,activation='relu'))\n",
    "    model.add(Dropout(0.3))\n",
    "    model.add(Dense(128,activation='relu'))\n",
    "    model.add(Dropout(0.3))\n",
    "    model.add(Dense(64, init='uniform', activation='relu'))\n",
    "    model.add(Dropout(0.3))\n",
    "    model.add(Dense(2,activation='softmax'))\n",
    "    model.compile(loss='sparse_categorical_crossentropy', metrics=['accuracy'], optimizer='adam')\n",
    "    model.summary()\n",
    "    return model"
   ]
  },
  {
   "cell_type": "code",
   "execution_count": 13,
   "metadata": {},
   "outputs": [
    {
     "ename": "TypeError",
     "evalue": "('Keyword argument not understood:', 'init')",
     "output_type": "error",
     "traceback": [
      "\u001b[1;31m---------------------------------------------------------------------------\u001b[0m",
      "\u001b[1;31mTypeError\u001b[0m                                 Traceback (most recent call last)",
      "Cell \u001b[1;32mIn[13], line 1\u001b[0m\n\u001b[1;32m----> 1\u001b[0m model\u001b[38;5;241m=\u001b[39m\u001b[43mcreate_model\u001b[49m\u001b[43m(\u001b[49m\u001b[43m)\u001b[49m\n",
      "Cell \u001b[1;32mIn[12], line 8\u001b[0m, in \u001b[0;36mcreate_model\u001b[1;34m()\u001b[0m\n\u001b[0;32m      6\u001b[0m model\u001b[38;5;241m.\u001b[39madd(Dense(\u001b[38;5;241m128\u001b[39m,activation\u001b[38;5;241m=\u001b[39m\u001b[38;5;124m'\u001b[39m\u001b[38;5;124mrelu\u001b[39m\u001b[38;5;124m'\u001b[39m))\n\u001b[0;32m      7\u001b[0m model\u001b[38;5;241m.\u001b[39madd(Dropout(\u001b[38;5;241m0.3\u001b[39m))\n\u001b[1;32m----> 8\u001b[0m model\u001b[38;5;241m.\u001b[39madd(\u001b[43mDense\u001b[49m\u001b[43m(\u001b[49m\u001b[38;5;241;43m64\u001b[39;49m\u001b[43m,\u001b[49m\u001b[43m \u001b[49m\u001b[43minit\u001b[49m\u001b[38;5;241;43m=\u001b[39;49m\u001b[38;5;124;43m'\u001b[39;49m\u001b[38;5;124;43muniform\u001b[39;49m\u001b[38;5;124;43m'\u001b[39;49m\u001b[43m,\u001b[49m\u001b[43m \u001b[49m\u001b[43mactivation\u001b[49m\u001b[38;5;241;43m=\u001b[39;49m\u001b[38;5;124;43m'\u001b[39;49m\u001b[38;5;124;43mrelu\u001b[39;49m\u001b[38;5;124;43m'\u001b[39;49m\u001b[43m)\u001b[49m)\n\u001b[0;32m      9\u001b[0m model\u001b[38;5;241m.\u001b[39madd(Dropout(\u001b[38;5;241m0.3\u001b[39m))\n\u001b[0;32m     10\u001b[0m model\u001b[38;5;241m.\u001b[39madd(Dense(\u001b[38;5;241m2\u001b[39m,activation\u001b[38;5;241m=\u001b[39m\u001b[38;5;124m'\u001b[39m\u001b[38;5;124msoftmax\u001b[39m\u001b[38;5;124m'\u001b[39m))\n",
      "File \u001b[1;32m~\\AppData\\Local\\Programs\\Python\\Python310\\lib\\site-packages\\keras\\dtensor\\utils.py:96\u001b[0m, in \u001b[0;36mallow_initializer_layout.<locals>._wrap_function\u001b[1;34m(layer_instance, *args, **kwargs)\u001b[0m\n\u001b[0;32m     93\u001b[0m         \u001b[38;5;28;01mif\u001b[39;00m layout:\n\u001b[0;32m     94\u001b[0m             layout_args[variable_name \u001b[38;5;241m+\u001b[39m \u001b[38;5;124m\"\u001b[39m\u001b[38;5;124m_layout\u001b[39m\u001b[38;5;124m\"\u001b[39m] \u001b[38;5;241m=\u001b[39m layout\n\u001b[1;32m---> 96\u001b[0m init_method(layer_instance, \u001b[38;5;241m*\u001b[39margs, \u001b[38;5;241m*\u001b[39m\u001b[38;5;241m*\u001b[39mkwargs)\n\u001b[0;32m     98\u001b[0m \u001b[38;5;66;03m# Inject the layout parameter after the invocation of __init__()\u001b[39;00m\n\u001b[0;32m     99\u001b[0m \u001b[38;5;28;01mfor\u001b[39;00m layout_param_name, layout \u001b[38;5;129;01min\u001b[39;00m layout_args\u001b[38;5;241m.\u001b[39mitems():\n",
      "File \u001b[1;32m~\\AppData\\Local\\Programs\\Python\\Python310\\lib\\site-packages\\keras\\layers\\core\\dense.py:117\u001b[0m, in \u001b[0;36mDense.__init__\u001b[1;34m(self, units, activation, use_bias, kernel_initializer, bias_initializer, kernel_regularizer, bias_regularizer, activity_regularizer, kernel_constraint, bias_constraint, **kwargs)\u001b[0m\n\u001b[0;32m    102\u001b[0m \u001b[38;5;129m@utils\u001b[39m\u001b[38;5;241m.\u001b[39mallow_initializer_layout\n\u001b[0;32m    103\u001b[0m \u001b[38;5;28;01mdef\u001b[39;00m \u001b[38;5;21m__init__\u001b[39m(\n\u001b[0;32m    104\u001b[0m     \u001b[38;5;28mself\u001b[39m,\n\u001b[1;32m   (...)\u001b[0m\n\u001b[0;32m    115\u001b[0m     \u001b[38;5;241m*\u001b[39m\u001b[38;5;241m*\u001b[39mkwargs,\n\u001b[0;32m    116\u001b[0m ):\n\u001b[1;32m--> 117\u001b[0m     \u001b[38;5;28msuper\u001b[39m()\u001b[38;5;241m.\u001b[39m\u001b[38;5;21m__init__\u001b[39m(activity_regularizer\u001b[38;5;241m=\u001b[39mactivity_regularizer, \u001b[38;5;241m*\u001b[39m\u001b[38;5;241m*\u001b[39mkwargs)\n\u001b[0;32m    119\u001b[0m     \u001b[38;5;28mself\u001b[39m\u001b[38;5;241m.\u001b[39munits \u001b[38;5;241m=\u001b[39m \u001b[38;5;28mint\u001b[39m(units) \u001b[38;5;28;01mif\u001b[39;00m \u001b[38;5;129;01mnot\u001b[39;00m \u001b[38;5;28misinstance\u001b[39m(units, \u001b[38;5;28mint\u001b[39m) \u001b[38;5;28;01melse\u001b[39;00m units\n\u001b[0;32m    120\u001b[0m     \u001b[38;5;28;01mif\u001b[39;00m \u001b[38;5;28mself\u001b[39m\u001b[38;5;241m.\u001b[39munits \u001b[38;5;241m<\u001b[39m \u001b[38;5;241m0\u001b[39m:\n",
      "File \u001b[1;32m~\\AppData\\Local\\Programs\\Python\\Python310\\lib\\site-packages\\tensorflow\\python\\trackable\\base.py:205\u001b[0m, in \u001b[0;36mno_automatic_dependency_tracking.<locals>._method_wrapper\u001b[1;34m(self, *args, **kwargs)\u001b[0m\n\u001b[0;32m    203\u001b[0m \u001b[38;5;28mself\u001b[39m\u001b[38;5;241m.\u001b[39m_self_setattr_tracking \u001b[38;5;241m=\u001b[39m \u001b[38;5;28;01mFalse\u001b[39;00m  \u001b[38;5;66;03m# pylint: disable=protected-access\u001b[39;00m\n\u001b[0;32m    204\u001b[0m \u001b[38;5;28;01mtry\u001b[39;00m:\n\u001b[1;32m--> 205\u001b[0m   result \u001b[38;5;241m=\u001b[39m method(\u001b[38;5;28mself\u001b[39m, \u001b[38;5;241m*\u001b[39margs, \u001b[38;5;241m*\u001b[39m\u001b[38;5;241m*\u001b[39mkwargs)\n\u001b[0;32m    206\u001b[0m \u001b[38;5;28;01mfinally\u001b[39;00m:\n\u001b[0;32m    207\u001b[0m   \u001b[38;5;28mself\u001b[39m\u001b[38;5;241m.\u001b[39m_self_setattr_tracking \u001b[38;5;241m=\u001b[39m previous_value  \u001b[38;5;66;03m# pylint: disable=protected-access\u001b[39;00m\n",
      "File \u001b[1;32m~\\AppData\\Local\\Programs\\Python\\Python310\\lib\\site-packages\\keras\\engine\\base_layer.py:340\u001b[0m, in \u001b[0;36mLayer.__init__\u001b[1;34m(self, trainable, name, dtype, dynamic, **kwargs)\u001b[0m\n\u001b[0;32m    329\u001b[0m allowed_kwargs \u001b[38;5;241m=\u001b[39m {\n\u001b[0;32m    330\u001b[0m     \u001b[38;5;124m\"\u001b[39m\u001b[38;5;124minput_dim\u001b[39m\u001b[38;5;124m\"\u001b[39m,\n\u001b[0;32m    331\u001b[0m     \u001b[38;5;124m\"\u001b[39m\u001b[38;5;124minput_shape\u001b[39m\u001b[38;5;124m\"\u001b[39m,\n\u001b[1;32m   (...)\u001b[0m\n\u001b[0;32m    337\u001b[0m     \u001b[38;5;124m\"\u001b[39m\u001b[38;5;124mimplementation\u001b[39m\u001b[38;5;124m\"\u001b[39m,\n\u001b[0;32m    338\u001b[0m }\n\u001b[0;32m    339\u001b[0m \u001b[38;5;66;03m# Validate optional keyword arguments.\u001b[39;00m\n\u001b[1;32m--> 340\u001b[0m \u001b[43mgeneric_utils\u001b[49m\u001b[38;5;241;43m.\u001b[39;49m\u001b[43mvalidate_kwargs\u001b[49m\u001b[43m(\u001b[49m\u001b[43mkwargs\u001b[49m\u001b[43m,\u001b[49m\u001b[43m \u001b[49m\u001b[43mallowed_kwargs\u001b[49m\u001b[43m)\u001b[49m\n\u001b[0;32m    342\u001b[0m \u001b[38;5;66;03m# Mutable properties\u001b[39;00m\n\u001b[0;32m    343\u001b[0m \u001b[38;5;66;03m# Indicates whether the layer's weights are updated during training\u001b[39;00m\n\u001b[0;32m    344\u001b[0m \u001b[38;5;66;03m# and whether the layer's updates are run during training.\u001b[39;00m\n\u001b[0;32m    345\u001b[0m \u001b[38;5;28;01mif\u001b[39;00m \u001b[38;5;129;01mnot\u001b[39;00m (\n\u001b[0;32m    346\u001b[0m     \u001b[38;5;28misinstance\u001b[39m(trainable, \u001b[38;5;28mbool\u001b[39m)\n\u001b[0;32m    347\u001b[0m     \u001b[38;5;129;01mor\u001b[39;00m (\n\u001b[1;32m   (...)\u001b[0m\n\u001b[0;32m    350\u001b[0m     )\n\u001b[0;32m    351\u001b[0m ):\n",
      "File \u001b[1;32m~\\AppData\\Local\\Programs\\Python\\Python310\\lib\\site-packages\\keras\\utils\\generic_utils.py:515\u001b[0m, in \u001b[0;36mvalidate_kwargs\u001b[1;34m(kwargs, allowed_kwargs, error_message)\u001b[0m\n\u001b[0;32m    513\u001b[0m \u001b[38;5;28;01mfor\u001b[39;00m kwarg \u001b[38;5;129;01min\u001b[39;00m kwargs:\n\u001b[0;32m    514\u001b[0m     \u001b[38;5;28;01mif\u001b[39;00m kwarg \u001b[38;5;129;01mnot\u001b[39;00m \u001b[38;5;129;01min\u001b[39;00m allowed_kwargs:\n\u001b[1;32m--> 515\u001b[0m         \u001b[38;5;28;01mraise\u001b[39;00m \u001b[38;5;167;01mTypeError\u001b[39;00m(error_message, kwarg)\n",
      "\u001b[1;31mTypeError\u001b[0m: ('Keyword argument not understood:', 'init')"
     ]
    }
   ],
   "source": [
    "model=create_model()"
   ]
  },
  {
   "cell_type": "code",
   "execution_count": null,
   "metadata": {},
   "outputs": [],
   "source": [
    "from sklearn.model_selection import train_test_split\n",
    "X_train,X_test,y_train,y_test = train_test_split(df,label,test_size=0.2,random_state=21)"
   ]
  },
  {
   "cell_type": "code",
   "execution_count": 14,
   "metadata": {},
   "outputs": [
    {
     "ename": "NameError",
     "evalue": "name 'X_train' is not defined",
     "output_type": "error",
     "traceback": [
      "\u001b[1;31m---------------------------------------------------------------------------\u001b[0m",
      "\u001b[1;31mNameError\u001b[0m                                 Traceback (most recent call last)",
      "Cell \u001b[1;32mIn[14], line 1\u001b[0m\n\u001b[1;32m----> 1\u001b[0m \u001b[38;5;28mprint\u001b[39m(\u001b[43mX_train\u001b[49m\u001b[38;5;241m.\u001b[39mshape,y_train\u001b[38;5;241m.\u001b[39mshape,X_test\u001b[38;5;241m.\u001b[39mshape,y_test\u001b[38;5;241m.\u001b[39mshape)\n",
      "\u001b[1;31mNameError\u001b[0m: name 'X_train' is not defined"
     ]
    }
   ],
   "source": [
    "print(X_train.shape,y_train.shape,X_test.shape,y_test.shape)"
   ]
  },
  {
   "cell_type": "code",
   "execution_count": 15,
   "metadata": {},
   "outputs": [
    {
     "ename": "NameError",
     "evalue": "name 'y_test' is not defined",
     "output_type": "error",
     "traceback": [
      "\u001b[1;31m---------------------------------------------------------------------------\u001b[0m",
      "\u001b[1;31mNameError\u001b[0m                                 Traceback (most recent call last)",
      "Cell \u001b[1;32mIn[15], line 1\u001b[0m\n\u001b[1;32m----> 1\u001b[0m \u001b[43my_test\u001b[49m\n",
      "\u001b[1;31mNameError\u001b[0m: name 'y_test' is not defined"
     ]
    }
   ],
   "source": [
    "y_test"
   ]
  },
  {
   "cell_type": "code",
   "execution_count": 16,
   "metadata": {},
   "outputs": [
    {
     "ename": "NameError",
     "evalue": "name 'model' is not defined",
     "output_type": "error",
     "traceback": [
      "\u001b[1;31m---------------------------------------------------------------------------\u001b[0m",
      "\u001b[1;31mNameError\u001b[0m                                 Traceback (most recent call last)",
      "Cell \u001b[1;32mIn[16], line 1\u001b[0m\n\u001b[1;32m----> 1\u001b[0m \u001b[43mmodel\u001b[49m\u001b[38;5;241m.\u001b[39mfit(X_train,y_train,validation_data\u001b[38;5;241m=\u001b[39m(X_test,y_test),batch_size\u001b[38;5;241m=\u001b[39m\u001b[38;5;241m5\u001b[39m,epochs\u001b[38;5;241m=\u001b[39m\u001b[38;5;241m20\u001b[39m)\n",
      "\u001b[1;31mNameError\u001b[0m: name 'model' is not defined"
     ]
    }
   ],
   "source": [
    "model.fit(X_train,y_train,validation_data=(X_test,y_test),batch_size=5,epochs=20)"
   ]
  },
  {
   "cell_type": "markdown",
   "metadata": {},
   "source": [
    "# Testing"
   ]
  },
  {
   "cell_type": "code",
   "execution_count": 17,
   "metadata": {},
   "outputs": [
    {
     "name": "stdout",
     "output_type": "stream",
     "text": [
      "recording..\n",
      "finished recording\n"
     ]
    }
   ],
   "source": [
    "FORMAT=p.paInt16\n",
    "CHANNELS=2\n",
    "RATE=44100 #sampling frequency rate\n",
    "CHUNK=1024\n",
    "RECORD_SECONDS=2\n",
    "WAVE_OUTPUT_FILENAME=\"test.wav\"\n",
    "audio=p.PyAudio()\n",
    "\n",
    "#start recording\n",
    "stream=audio.open(format=FORMAT,channels=CHANNELS,rate=RATE,input=True,frames_per_buffer=CHUNK)\n",
    "print(\"recording..\")\n",
    "frames=[]\n",
    "for i in range(0,int(RATE/CHUNK * RECORD_SECONDS)):\n",
    "    data=stream.read(CHUNK)\n",
    "    frames.append(data)\n",
    "print(\"finished recording\")\n",
    "\n",
    "#stop recording \n",
    "stream.stop_stream()\n",
    "stream.close()\n",
    "audio.terminate()"
   ]
  },
  {
   "cell_type": "code",
   "execution_count": 18,
   "metadata": {},
   "outputs": [],
   "source": [
    "waveFile = w.open(WAVE_OUTPUT_FILENAME, 'wb')\n",
    "waveFile.setnchannels(CHANNELS)\n",
    "waveFile.setsampwidth(audio.get_sample_size(FORMAT))\n",
    "waveFile.setframerate(RATE)\n",
    "waveFile.writeframes(b''.join(frames))\n",
    "waveFile.close()"
   ]
  },
  {
   "cell_type": "code",
   "execution_count": 19,
   "metadata": {},
   "outputs": [
    {
     "data": {
      "text/html": [
       "\n",
       "                <audio  controls=\"controls\" >\n",
       "                    <source src=\"data:audio/wav;base64,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\" type=\"audio/wav\" />\n",
       "                    Your browser does not support the audio element.\n",
       "                </audio>\n",
       "              "
      ],
      "text/plain": [
       "<IPython.lib.display.Audio object>"
      ]
     },
     "execution_count": 19,
     "metadata": {},
     "output_type": "execute_result"
    }
   ],
   "source": [
    "#load audio file\n",
    "audio_path= WAVE_OUTPUT_FILENAME\n",
    "X_2,sr_2=librosa.load(audio_path,res_type='kaiser_fast')\n",
    "#display in notebook\n",
    "IPython.display.Audio(data=X_2,rate=sr_2)"
   ]
  },
  {
   "cell_type": "code",
   "execution_count": 20,
   "metadata": {},
   "outputs": [
    {
     "ename": "AttributeError",
     "evalue": "module 'librosa.display' has no attribute 'waveplot'",
     "output_type": "error",
     "traceback": [
      "\u001b[1;31m---------------------------------------------------------------------------\u001b[0m",
      "\u001b[1;31mAttributeError\u001b[0m                            Traceback (most recent call last)",
      "Cell \u001b[1;32mIn[20], line 2\u001b[0m\n\u001b[0;32m      1\u001b[0m plt\u001b[38;5;241m.\u001b[39mfigure(figsize\u001b[38;5;241m=\u001b[39m(\u001b[38;5;241m12\u001b[39m,\u001b[38;5;241m4\u001b[39m))\n\u001b[1;32m----> 2\u001b[0m \u001b[43mlibrosa\u001b[49m\u001b[38;5;241;43m.\u001b[39;49m\u001b[43mdisplay\u001b[49m\u001b[38;5;241;43m.\u001b[39;49m\u001b[43mwaveplot\u001b[49m(X_2, sr\u001b[38;5;241m=\u001b[39msr_2)\n",
      "\u001b[1;31mAttributeError\u001b[0m: module 'librosa.display' has no attribute 'waveplot'"
     ]
    },
    {
     "data": {
      "text/plain": [
       "<Figure size 1200x400 with 0 Axes>"
      ]
     },
     "metadata": {},
     "output_type": "display_data"
    }
   ],
   "source": [
    "plt.figure(figsize=(12,4))\n",
    "librosa.display.waveplot(X_2, sr=sr_2)"
   ]
  },
  {
   "cell_type": "code",
   "execution_count": 21,
   "metadata": {},
   "outputs": [
    {
     "data": {
      "text/plain": [
       "(128, 87)"
      ]
     },
     "execution_count": 21,
     "metadata": {},
     "output_type": "execute_result"
    }
   ],
   "source": [
    "X_user_test=librosa.feature.mfcc(y=X_2,sr=sr_2,n_mfcc=128)\n",
    "X_user_test.shape"
   ]
  },
  {
   "cell_type": "code",
   "execution_count": 22,
   "metadata": {},
   "outputs": [
    {
     "data": {
      "text/plain": [
       "array([[-2.3441655e+02, -2.5098222e+02, -2.8902591e+02, ...,\n",
       "        -2.2448952e+02, -2.1826233e+02, -2.1065604e+02],\n",
       "       [ 8.1657082e+01,  1.1813263e+02,  1.5277525e+02, ...,\n",
       "         1.5076297e+02,  1.4608206e+02,  1.2779904e+02],\n",
       "       [ 6.2535454e+01,  5.9265503e+01,  4.6461994e+01, ...,\n",
       "         1.0573809e+01,  2.1160780e+01,  2.8469666e+01],\n",
       "       ...,\n",
       "       [ 7.0226765e-01,  4.2969275e-01,  1.0009937e+00, ...,\n",
       "        -4.6315002e-01,  2.8648281e-01, -5.0406075e-01],\n",
       "       [ 1.3647118e+00, -4.1135788e-02, -1.5308495e+00, ...,\n",
       "         1.0664158e+00, -2.9177284e-01, -1.1485815e+00],\n",
       "       [-6.7008972e-02, -1.2083626e+00, -7.2985840e-01, ...,\n",
       "         2.0085831e+00, -1.8437958e-01, -8.8106155e-01]], dtype=float32)"
      ]
     },
     "execution_count": 22,
     "metadata": {},
     "output_type": "execute_result"
    }
   ],
   "source": [
    "X_user_test"
   ]
  },
  {
   "cell_type": "code",
   "execution_count": 23,
   "metadata": {},
   "outputs": [],
   "source": [
    "y_user_test=[]\n",
    "for i in range(0,128):\n",
    "    y_user_test.append(1)"
   ]
  },
  {
   "cell_type": "code",
   "execution_count": 234,
   "metadata": {},
   "outputs": [],
   "source": [
    "score=model.evaluate(X_user_test,y_user_test,verbose=0)"
   ]
  },
  {
   "cell_type": "code",
   "execution_count": 235,
   "metadata": {},
   "outputs": [
    {
     "data": {
      "text/plain": [
       "[0.8834355771541595, 0.640625]"
      ]
     },
     "execution_count": 235,
     "metadata": {},
     "output_type": "execute_result"
    }
   ],
   "source": [
    "score"
   ]
  },
  {
   "cell_type": "code",
   "execution_count": 236,
   "metadata": {},
   "outputs": [
    {
     "name": "stdout",
     "output_type": "stream",
     "text": [
      "Access Denied\n"
     ]
    }
   ],
   "source": [
    "if score[1]>0.75:\n",
    "    print(\"Access Granted\")\n",
    "    print(\"Welcome Nishant\")\n",
    "else:\n",
    "    print(\"Access Denied\")"
   ]
  },
  {
   "cell_type": "code",
   "execution_count": null,
   "metadata": {},
   "outputs": [],
   "source": []
  },
  {
   "cell_type": "code",
   "execution_count": null,
   "metadata": {},
   "outputs": [],
   "source": []
  }
 ],
 "metadata": {
  "kernelspec": {
   "display_name": "Python 3 (ipykernel)",
   "language": "python",
   "name": "python3"
  },
  "language_info": {
   "codemirror_mode": {
    "name": "ipython",
    "version": 3
   },
   "file_extension": ".py",
   "mimetype": "text/x-python",
   "name": "python",
   "nbconvert_exporter": "python",
   "pygments_lexer": "ipython3",
   "version": "3.10.9"
  }
 },
 "nbformat": 4,
 "nbformat_minor": 2
}
